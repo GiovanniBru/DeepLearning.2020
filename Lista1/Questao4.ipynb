{
 "cells": [
  {
   "cell_type": "markdown",
   "metadata": {},
   "source": [
    "Aluno: Giovanni Bruno Travassos de Carvalho - 11506849\n",
    "\n",
    "Resolução da primeira questão da primeira lista de exercícios de Deep Learning\n",
    "\n",
    "Professor: Tiago Maritan "
   ]
  },
  {
   "cell_type": "markdown",
   "metadata": {},
   "source": [
    "## Questão 4\n",
    "Utilize a rede neural perceptron de múltiplas camadas para fazer a predição de um passo,\n",
    "até predição de três passos, da série temporal x(n) = sen(n + sen²(n)). Avalie o desempenho\n",
    "mostrando para cada caso os erros de predição.\n",
    "\n",
    "Dica: Para auxiliar na resolução desse problema você pode usar K entradas (por exemplo,\n",
    "K=10), que correspondem a K passos anteriores a n: x(n-1), x(n-2),…, x(n-K), e deve fazer a\n",
    "predição dos valores x(n+1), x(n+2) e x(n+3)."
   ]
  },
  {
   "cell_type": "markdown",
   "metadata": {},
   "source": [
    "### Primeira Etapa: Geração de Dados"
   ]
  },
  {
   "cell_type": "code",
   "execution_count": 2,
   "metadata": {},
   "outputs": [],
   "source": [
    "import math\n",
    "import random\n",
    "import numpy as np\n",
    "\n",
    "random.seed(234) \n",
    "    \n",
    "k = 5\n",
    "passado = [0] * k\n",
    "futuro = [0] * 3\n",
    "\n",
    "entrada = open('entrada.txt', 'w')\n",
    "saida = open('saida.txt', 'w')\n",
    "\n",
    "for n in range (0,400):\n",
    "\n",
    "    for i in range (1,k+1):\n",
    "        passado[i-1]= math.sin(n-i + pow(math.sin(n-i),2))\n",
    "        entrada.write(str(passado[i-1]))\n",
    "        if(i!=k):\n",
    "            entrada.write(', ')\n",
    "        else:\n",
    "            entrada.write('\\n')\n",
    "            \n",
    "    for i in range(1,4):\n",
    "        futuro[i-1]= math.sin(n+i + pow(math.sin(n+i),2) )\n",
    "        saida.write(str(futuro[i-1]))\n",
    "        if(i!=3):\n",
    "            saida.write(', ')\n",
    "        else:\n",
    "            saida.write('\\n')\n",
    "\n",
    "    passado=[0]*k\n",
    "    futuro=[0]*3\n",
    "\n",
    "entrada.close()\n",
    "saida.close()"
   ]
  },
  {
   "cell_type": "code",
   "execution_count": 35,
   "metadata": {},
   "outputs": [],
   "source": [
    "# Importando Bibliotecas:\n",
    "import pandas as pd\n",
    "import tensorflow as tf\n",
    "import statistics\n",
    "import matplotlib.pyplot as plt\n",
    "from sklearn.metrics import r2_score, accuracy_score\n",
    "from sklearn.model_selection import train_test_split\n",
    "from sklearn.preprocessing import StandardScaler\n",
    "from sklearn.metrics import confusion_matrix\n"
   ]
  },
  {
   "cell_type": "code",
   "execution_count": 4,
   "metadata": {},
   "outputs": [
    {
     "name": "stdout",
     "output_type": "stream",
     "text": [
      "[[-0.28779783 -0.92198592 -0.16080628  0.2817882   0.80689206]\n",
      " [ 0.         -0.28779783 -0.92198592 -0.16080628  0.2817882 ]\n",
      " [ 0.99059229  0.         -0.28779783 -0.92198592 -0.16080628]\n",
      " ...\n",
      " [ 0.18345135 -0.2816475  -0.79058106 -0.37905021  0.28112872]\n",
      " [ 0.90956378  0.18345135 -0.2816475  -0.79058106 -0.37905021]\n",
      " [ 0.28637921  0.90956378  0.18345135 -0.2816475  -0.79058106]]\n"
     ]
    }
   ],
   "source": [
    "# Carregando Dados: \n",
    "\n",
    "X = []\n",
    "X = np.loadtxt('entrada.txt', dtype=float, delimiter=',', encoding='bytes')\n",
    "\n",
    "Y = []\n",
    "Y = np.loadtxt('saida.txt', dtype=float, delimiter=',', encoding='bytes')\n",
    "\n",
    "print(X)"
   ]
  },
  {
   "cell_type": "code",
   "execution_count": 21,
   "metadata": {},
   "outputs": [],
   "source": [
    "# Divisão dos dados em Treino e Teste: \n",
    "\n",
    "X_Treino, X_Teste, Y_Treino, Y_Teste = train_test_split(X, Y, test_size = 0.3, random_state = 0)"
   ]
  },
  {
   "cell_type": "code",
   "execution_count": 22,
   "metadata": {},
   "outputs": [],
   "source": [
    "# Normalização dos Dados: \n",
    "\n",
    "scaler = StandardScaler()\n",
    "X_Treino = scaler.fit_transform(X_Treino)\n",
    "X_Teste = scaler.fit_transform(X_Teste)"
   ]
  },
  {
   "cell_type": "code",
   "execution_count": 26,
   "metadata": {},
   "outputs": [],
   "source": [
    "# Rede Neural: \n",
    "\n",
    "rede = tf.keras.models.Sequential() # Inicialização \n",
    "    # Adição de Camadas:\n",
    "rede.add(tf.keras.layers.Dense(units=5, activation='relu'))\n",
    "rede.add(tf.keras.layers.Dense(units=7, activation='relu'))\n",
    "rede.add(tf.keras.layers.Dense(units=6, activation='relu'))\n",
    "rede.add(tf.keras.layers.Dense(units=3, activation='relu'))"
   ]
  },
  {
   "cell_type": "code",
   "execution_count": 31,
   "metadata": {},
   "outputs": [
    {
     "name": "stdout",
     "output_type": "stream",
     "text": [
      "WARNING:tensorflow:From C:\\Users\\Giovanni\\Anaconda3\\lib\\site-packages\\tensorflow\\python\\keras\\utils\\losses_utils.py:170: to_float (from tensorflow.python.ops.math_ops) is deprecated and will be removed in a future version.\n",
      "Instructions for updating:\n",
      "Use tf.cast instead.\n"
     ]
    }
   ],
   "source": [
    "# Compilando a Rede: \n",
    "\n",
    "rede.compile(optimizer = 'adam', loss = 'mean_squared_error', metrics = ['accuracy'])"
   ]
  },
  {
   "cell_type": "code",
   "execution_count": 32,
   "metadata": {},
   "outputs": [
    {
     "name": "stdout",
     "output_type": "stream",
     "text": [
      "Train on 224 samples, validate on 56 samples\n",
      "Epoch 1/100\n",
      " - 0s - loss: 0.2320 - acc: 0.7411 - val_loss: 0.2476 - val_acc: 0.7679\n",
      "Epoch 2/100\n",
      " - 0s - loss: 0.2278 - acc: 0.7500 - val_loss: 0.2456 - val_acc: 0.7679\n",
      "Epoch 3/100\n",
      " - 0s - loss: 0.2248 - acc: 0.7589 - val_loss: 0.2441 - val_acc: 0.8036\n",
      "Epoch 4/100\n",
      " - 0s - loss: 0.2221 - acc: 0.7634 - val_loss: 0.2428 - val_acc: 0.8036\n",
      "Epoch 5/100\n",
      " - 0s - loss: 0.2198 - acc: 0.7634 - val_loss: 0.2414 - val_acc: 0.8036\n",
      "Epoch 6/100\n",
      " - 0s - loss: 0.2178 - acc: 0.7634 - val_loss: 0.2399 - val_acc: 0.8036\n",
      "Epoch 7/100\n",
      " - 0s - loss: 0.2158 - acc: 0.7634 - val_loss: 0.2386 - val_acc: 0.7857\n",
      "Epoch 8/100\n",
      " - 0s - loss: 0.2141 - acc: 0.7634 - val_loss: 0.2374 - val_acc: 0.7679\n",
      "Epoch 9/100\n",
      " - 0s - loss: 0.2128 - acc: 0.7634 - val_loss: 0.2365 - val_acc: 0.7679\n",
      "Epoch 10/100\n",
      " - 0s - loss: 0.2116 - acc: 0.7589 - val_loss: 0.2358 - val_acc: 0.7679\n",
      "Epoch 11/100\n",
      " - 0s - loss: 0.2105 - acc: 0.7455 - val_loss: 0.2351 - val_acc: 0.7679\n",
      "Epoch 12/100\n",
      " - 0s - loss: 0.2097 - acc: 0.7455 - val_loss: 0.2343 - val_acc: 0.7500\n",
      "Epoch 13/100\n",
      " - 0s - loss: 0.2089 - acc: 0.7411 - val_loss: 0.2338 - val_acc: 0.7321\n",
      "Epoch 14/100\n",
      " - 0s - loss: 0.2082 - acc: 0.7411 - val_loss: 0.2334 - val_acc: 0.7321\n",
      "Epoch 15/100\n",
      " - 0s - loss: 0.2076 - acc: 0.7366 - val_loss: 0.2330 - val_acc: 0.7321\n",
      "Epoch 16/100\n",
      " - 0s - loss: 0.2071 - acc: 0.7321 - val_loss: 0.2326 - val_acc: 0.7321\n",
      "Epoch 17/100\n",
      " - 0s - loss: 0.2066 - acc: 0.7277 - val_loss: 0.2323 - val_acc: 0.7321\n",
      "Epoch 18/100\n",
      " - 0s - loss: 0.2062 - acc: 0.7232 - val_loss: 0.2319 - val_acc: 0.7321\n",
      "Epoch 19/100\n",
      " - 0s - loss: 0.2059 - acc: 0.7098 - val_loss: 0.2318 - val_acc: 0.7321\n",
      "Epoch 20/100\n",
      " - 0s - loss: 0.2055 - acc: 0.7054 - val_loss: 0.2316 - val_acc: 0.7321\n",
      "Epoch 21/100\n",
      " - 0s - loss: 0.2053 - acc: 0.7054 - val_loss: 0.2313 - val_acc: 0.7321\n",
      "Epoch 22/100\n",
      " - 0s - loss: 0.2050 - acc: 0.7054 - val_loss: 0.2310 - val_acc: 0.7321\n",
      "Epoch 23/100\n",
      " - 0s - loss: 0.2047 - acc: 0.7009 - val_loss: 0.2308 - val_acc: 0.7143\n",
      "Epoch 24/100\n",
      " - 0s - loss: 0.2045 - acc: 0.7009 - val_loss: 0.2305 - val_acc: 0.7143\n",
      "Epoch 25/100\n",
      " - 0s - loss: 0.2042 - acc: 0.7009 - val_loss: 0.2302 - val_acc: 0.7143\n",
      "Epoch 26/100\n",
      " - 0s - loss: 0.2040 - acc: 0.6964 - val_loss: 0.2300 - val_acc: 0.7143\n",
      "Epoch 27/100\n",
      " - 0s - loss: 0.2038 - acc: 0.6920 - val_loss: 0.2299 - val_acc: 0.7143\n",
      "Epoch 28/100\n",
      " - 0s - loss: 0.2036 - acc: 0.6920 - val_loss: 0.2298 - val_acc: 0.7143\n",
      "Epoch 29/100\n",
      " - 0s - loss: 0.2034 - acc: 0.6920 - val_loss: 0.2296 - val_acc: 0.7143\n",
      "Epoch 30/100\n",
      " - 0s - loss: 0.2032 - acc: 0.6920 - val_loss: 0.2296 - val_acc: 0.7143\n",
      "Epoch 31/100\n",
      " - 0s - loss: 0.2030 - acc: 0.6920 - val_loss: 0.2294 - val_acc: 0.7143\n",
      "Epoch 32/100\n",
      " - 0s - loss: 0.2028 - acc: 0.6875 - val_loss: 0.2292 - val_acc: 0.7143\n",
      "Epoch 33/100\n",
      " - 0s - loss: 0.2026 - acc: 0.6875 - val_loss: 0.2291 - val_acc: 0.7143\n",
      "Epoch 34/100\n",
      " - 0s - loss: 0.2025 - acc: 0.6875 - val_loss: 0.2289 - val_acc: 0.7143\n",
      "Epoch 35/100\n",
      " - 0s - loss: 0.2023 - acc: 0.6875 - val_loss: 0.2288 - val_acc: 0.7143\n",
      "Epoch 36/100\n",
      " - 0s - loss: 0.2021 - acc: 0.6875 - val_loss: 0.2287 - val_acc: 0.7143\n",
      "Epoch 37/100\n",
      " - 0s - loss: 0.2020 - acc: 0.6875 - val_loss: 0.2286 - val_acc: 0.7143\n",
      "Epoch 38/100\n",
      " - 0s - loss: 0.2019 - acc: 0.6830 - val_loss: 0.2284 - val_acc: 0.7143\n",
      "Epoch 39/100\n",
      " - 0s - loss: 0.2017 - acc: 0.6830 - val_loss: 0.2282 - val_acc: 0.7143\n",
      "Epoch 40/100\n",
      " - 0s - loss: 0.2016 - acc: 0.6830 - val_loss: 0.2281 - val_acc: 0.7143\n",
      "Epoch 41/100\n",
      " - 0s - loss: 0.2015 - acc: 0.6830 - val_loss: 0.2280 - val_acc: 0.7143\n",
      "Epoch 42/100\n",
      " - 0s - loss: 0.2014 - acc: 0.6830 - val_loss: 0.2279 - val_acc: 0.7143\n",
      "Epoch 43/100\n",
      " - 0s - loss: 0.2013 - acc: 0.6830 - val_loss: 0.2279 - val_acc: 0.7143\n",
      "Epoch 44/100\n",
      " - 0s - loss: 0.2011 - acc: 0.6830 - val_loss: 0.2277 - val_acc: 0.7143\n",
      "Epoch 45/100\n",
      " - 0s - loss: 0.2011 - acc: 0.6830 - val_loss: 0.2276 - val_acc: 0.7143\n",
      "Epoch 46/100\n",
      " - 0s - loss: 0.2009 - acc: 0.6830 - val_loss: 0.2275 - val_acc: 0.7143\n",
      "Epoch 47/100\n",
      " - 0s - loss: 0.2008 - acc: 0.6830 - val_loss: 0.2275 - val_acc: 0.7143\n",
      "Epoch 48/100\n",
      " - 0s - loss: 0.2007 - acc: 0.6830 - val_loss: 0.2275 - val_acc: 0.7143\n",
      "Epoch 49/100\n",
      " - 0s - loss: 0.2006 - acc: 0.6830 - val_loss: 0.2274 - val_acc: 0.7143\n",
      "Epoch 50/100\n",
      " - 0s - loss: 0.2005 - acc: 0.6830 - val_loss: 0.2272 - val_acc: 0.7143\n",
      "Epoch 51/100\n",
      " - 0s - loss: 0.2004 - acc: 0.6830 - val_loss: 0.2270 - val_acc: 0.7143\n",
      "Epoch 52/100\n",
      " - 0s - loss: 0.2003 - acc: 0.6830 - val_loss: 0.2269 - val_acc: 0.7143\n",
      "Epoch 53/100\n",
      " - 0s - loss: 0.2001 - acc: 0.6830 - val_loss: 0.2268 - val_acc: 0.7143\n",
      "Epoch 54/100\n",
      " - 0s - loss: 0.2000 - acc: 0.6830 - val_loss: 0.2267 - val_acc: 0.7143\n",
      "Epoch 55/100\n",
      " - 0s - loss: 0.2000 - acc: 0.6830 - val_loss: 0.2265 - val_acc: 0.7143\n",
      "Epoch 56/100\n",
      " - 0s - loss: 0.1999 - acc: 0.6830 - val_loss: 0.2264 - val_acc: 0.7143\n",
      "Epoch 57/100\n",
      " - 0s - loss: 0.1998 - acc: 0.6830 - val_loss: 0.2263 - val_acc: 0.7143\n",
      "Epoch 58/100\n",
      " - 0s - loss: 0.1998 - acc: 0.6830 - val_loss: 0.2262 - val_acc: 0.7143\n",
      "Epoch 59/100\n",
      " - 0s - loss: 0.1997 - acc: 0.6830 - val_loss: 0.2261 - val_acc: 0.7143\n",
      "Epoch 60/100\n",
      " - 0s - loss: 0.1997 - acc: 0.6830 - val_loss: 0.2260 - val_acc: 0.7143\n",
      "Epoch 61/100\n",
      " - 0s - loss: 0.1996 - acc: 0.6830 - val_loss: 0.2259 - val_acc: 0.7143\n",
      "Epoch 62/100\n",
      " - 0s - loss: 0.1995 - acc: 0.6830 - val_loss: 0.2258 - val_acc: 0.7143\n",
      "Epoch 63/100\n",
      " - 0s - loss: 0.1995 - acc: 0.6830 - val_loss: 0.2257 - val_acc: 0.7143\n",
      "Epoch 64/100\n",
      " - 0s - loss: 0.1994 - acc: 0.6830 - val_loss: 0.2256 - val_acc: 0.7143\n",
      "Epoch 65/100\n",
      " - 0s - loss: 0.1994 - acc: 0.6830 - val_loss: 0.2256 - val_acc: 0.7143\n",
      "Epoch 66/100\n",
      " - 0s - loss: 0.1993 - acc: 0.6830 - val_loss: 0.2255 - val_acc: 0.7143\n",
      "Epoch 67/100\n",
      " - 0s - loss: 0.1993 - acc: 0.6830 - val_loss: 0.2254 - val_acc: 0.7143\n",
      "Epoch 68/100\n",
      " - 0s - loss: 0.1993 - acc: 0.6830 - val_loss: 0.2253 - val_acc: 0.7143\n",
      "Epoch 69/100\n",
      " - 0s - loss: 0.1992 - acc: 0.6830 - val_loss: 0.2253 - val_acc: 0.7143\n",
      "Epoch 70/100\n",
      " - 0s - loss: 0.1992 - acc: 0.6830 - val_loss: 0.2253 - val_acc: 0.7143\n",
      "Epoch 71/100\n",
      " - 0s - loss: 0.1991 - acc: 0.6830 - val_loss: 0.2252 - val_acc: 0.7143\n",
      "Epoch 72/100\n",
      " - 0s - loss: 0.1991 - acc: 0.6830 - val_loss: 0.2251 - val_acc: 0.7143\n",
      "Epoch 73/100\n",
      " - 0s - loss: 0.1990 - acc: 0.6830 - val_loss: 0.2250 - val_acc: 0.7143\n",
      "Epoch 74/100\n",
      " - 0s - loss: 0.1990 - acc: 0.6830 - val_loss: 0.2249 - val_acc: 0.7143\n",
      "Epoch 75/100\n",
      " - 0s - loss: 0.1989 - acc: 0.6875 - val_loss: 0.2249 - val_acc: 0.7143\n",
      "Epoch 76/100\n",
      " - 0s - loss: 0.1989 - acc: 0.6875 - val_loss: 0.2249 - val_acc: 0.7143\n",
      "Epoch 77/100\n",
      " - 0s - loss: 0.1988 - acc: 0.6875 - val_loss: 0.2249 - val_acc: 0.7143\n",
      "Epoch 78/100\n",
      " - 0s - loss: 0.1988 - acc: 0.6875 - val_loss: 0.2248 - val_acc: 0.7143\n",
      "Epoch 79/100\n",
      " - 0s - loss: 0.1987 - acc: 0.6875 - val_loss: 0.2248 - val_acc: 0.7143\n",
      "Epoch 80/100\n",
      " - 0s - loss: 0.1987 - acc: 0.6875 - val_loss: 0.2247 - val_acc: 0.7143\n",
      "Epoch 81/100\n",
      " - 0s - loss: 0.1986 - acc: 0.6875 - val_loss: 0.2247 - val_acc: 0.7143\n",
      "Epoch 82/100\n",
      " - 0s - loss: 0.1986 - acc: 0.6875 - val_loss: 0.2247 - val_acc: 0.7143\n",
      "Epoch 83/100\n",
      " - 0s - loss: 0.1985 - acc: 0.6875 - val_loss: 0.2247 - val_acc: 0.7143\n",
      "Epoch 84/100\n",
      " - 0s - loss: 0.1985 - acc: 0.6875 - val_loss: 0.2246 - val_acc: 0.7143\n",
      "Epoch 85/100\n",
      " - 0s - loss: 0.1984 - acc: 0.6875 - val_loss: 0.2246 - val_acc: 0.7143\n",
      "Epoch 86/100\n",
      " - 0s - loss: 0.1984 - acc: 0.6875 - val_loss: 0.2246 - val_acc: 0.7143\n",
      "Epoch 87/100\n",
      " - 0s - loss: 0.1984 - acc: 0.6920 - val_loss: 0.2246 - val_acc: 0.7143\n",
      "Epoch 88/100\n",
      " - 0s - loss: 0.1984 - acc: 0.6920 - val_loss: 0.2245 - val_acc: 0.7143\n",
      "Epoch 89/100\n",
      " - 0s - loss: 0.1983 - acc: 0.6920 - val_loss: 0.2245 - val_acc: 0.7143\n",
      "Epoch 90/100\n",
      " - 0s - loss: 0.1983 - acc: 0.6920 - val_loss: 0.2245 - val_acc: 0.7143\n",
      "Epoch 91/100\n",
      " - 0s - loss: 0.1983 - acc: 0.6920 - val_loss: 0.2245 - val_acc: 0.7143\n",
      "Epoch 92/100\n",
      " - 0s - loss: 0.1983 - acc: 0.6920 - val_loss: 0.2245 - val_acc: 0.7143\n",
      "Epoch 93/100\n",
      " - 0s - loss: 0.1983 - acc: 0.6920 - val_loss: 0.2245 - val_acc: 0.7143\n",
      "Epoch 94/100\n",
      " - 0s - loss: 0.1982 - acc: 0.6920 - val_loss: 0.2244 - val_acc: 0.7143\n",
      "Epoch 95/100\n",
      " - 0s - loss: 0.1982 - acc: 0.6920 - val_loss: 0.2244 - val_acc: 0.7143\n",
      "Epoch 96/100\n",
      " - 0s - loss: 0.1982 - acc: 0.6964 - val_loss: 0.2244 - val_acc: 0.7143\n",
      "Epoch 97/100\n",
      " - 0s - loss: 0.1982 - acc: 0.6964 - val_loss: 0.2244 - val_acc: 0.7143\n",
      "Epoch 98/100\n",
      " - 0s - loss: 0.1982 - acc: 0.6964 - val_loss: 0.2244 - val_acc: 0.7143\n",
      "Epoch 99/100\n",
      " - 0s - loss: 0.1981 - acc: 0.6964 - val_loss: 0.2244 - val_acc: 0.7143\n",
      "Epoch 100/100\n",
      " - 0s - loss: 0.1981 - acc: 0.6964 - val_loss: 0.2244 - val_acc: 0.7143\n"
     ]
    }
   ],
   "source": [
    "# Treinando a Rede: \n",
    "\n",
    "redeTreinada = rede.fit(X_Treino, Y_Treino, validation_split = 0.2, epochs = 100, batch_size = 50, verbose = 2)"
   ]
  },
  {
   "cell_type": "code",
   "execution_count": 33,
   "metadata": {},
   "outputs": [],
   "source": [
    "# Previsão: \n",
    "\n",
    "previsao = rede.predict(X_Teste)"
   ]
  },
  {
   "cell_type": "code",
   "execution_count": 34,
   "metadata": {},
   "outputs": [
    {
     "name": "stdout",
     "output_type": "stream",
     "text": [
      "0.6992411\n"
     ]
    }
   ],
   "source": [
    "# Calculando a Acurácia\n",
    "\n",
    "acuracia = statistics.mean(redeTreinada.history['acc'])\n",
    "print(acuracia)"
   ]
  },
  {
   "cell_type": "code",
   "execution_count": 36,
   "metadata": {},
   "outputs": [
    {
     "name": "stdout",
     "output_type": "stream",
     "text": [
      "[[61  0  0]\n",
      " [ 3  0 16]\n",
      " [11  0 29]]\n"
     ]
    }
   ],
   "source": [
    "# Matriz de Confusão: \n",
    "\n",
    "confusao = confusion_matrix(Y_Teste.argmax(axis=1), previsao.argmax(axis=1))\n",
    "print(confusao)"
   ]
  },
  {
   "cell_type": "code",
   "execution_count": 37,
   "metadata": {},
   "outputs": [
    {
     "data": {
      "text/plain": [
       "<matplotlib.legend.Legend at 0x1dca69449c8>"
      ]
     },
     "execution_count": 37,
     "metadata": {},
     "output_type": "execute_result"
    },
    {
     "data": {
      "image/png": "[encoded data removed]",
      "text/plain": [
       "<Figure size 432x288 with 1 Axes>"
      ]
     },
     "metadata": {
      "needs_background": "light"
     },
     "output_type": "display_data"
    }
   ],
   "source": [
    "# Gráfico da Acurácia: \n",
    "\n",
    "plt.figure(1)\n",
    "plt.plot(redeTreinada.history['acc'])\n",
    "plt.plot(redeTreinada.history['val_acc'])\n",
    "plt.ylabel('Acurácia')\n",
    "plt.xlabel('Épocas')\n",
    "plt.legend(['Treino', 'Teste'])"
   ]
  },
  {
   "cell_type": "code",
   "execution_count": null,
   "metadata": {},
   "outputs": [],
   "source": []
  }
 ],
 "metadata": {
  "kernelspec": {
   "display_name": "Python 3",
   "language": "python",
   "name": "python3"
  },
  "language_info": {
   "codemirror_mode": {
    "name": "ipython",
    "version": 3
   },
   "file_extension": ".py",
   "mimetype": "text/x-python",
   "name": "python",
   "nbconvert_exporter": "python",
   "pygments_lexer": "ipython3",
   "version": "3.7.4"
  }
 },
 "nbformat": 4,
 "nbformat_minor": 4
}
