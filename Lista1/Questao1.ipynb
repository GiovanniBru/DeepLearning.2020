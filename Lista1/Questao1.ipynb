{
 "cells": [
  {
   "cell_type": "markdown",
   "metadata": {},
   "source": [
    "Aluno: Giovanni Bruno Travassos de Carvalho - 11506849\n",
    "\n",
    "Resolução da primeira questão da primeira lista de exercícios de Deep Learning\n",
    "\n",
    "Professor: Tiago Maritan "
   ]
  },
  {
   "cell_type": "markdown",
   "metadata": {},
   "source": [
    "## Questão 1 \n",
    "A representação de uma determinada mensagem digital ternária, isto é formada por três bits,\n",
    "forma um cubo cujos vértices correspondem a mesma representação digital. Supondo que ao\n",
    "transmitirmos esta mensagem a mesma possa ser contaminada por ruído formado em torno de\n",
    "cada vértice uma nuvem esférica de valores aleatórios com raio máximo é 0.1. Formule este\n",
    "problema como um problema de classificação de padrões e treine uma rede Perceptron de\n",
    "Rosenblatt (Perceptron de camada única) para atuar como classificador/decodificador. Para\n",
    "solução do problema defina antes um conjunto de treinamento e um conjunto de validação.\n",
    "\n",
    "Dica: O problema pode ser formulado como um problema de classificação de 8 padrões diferentes, sendo que cada padrão representa um vértice do cubo. \n",
    "\n",
    "Padrão 1: x = {0,0,0} com vetor resposta d = {1.0, -1.0, -1.0, -1.0, -1.0, -1.0, -1.0, -1.0}\n",
    "\n",
    "Padrão 2: x = {0,0,1} com vetor resposta d = {-1.0, 1.0, -1.0, -1.0, -1.0, -1.0, -1.0, -1.0}\n",
    "\n",
    "Padrão 3: x = {0,1,0} com vetor resposta d = {-1.0, -1.0, 1.0, -1.0, -1.0, -1.0, -1.0, -1.0}\n",
    "\n",
    "Padrão 4: x = {0,1,1} com vetor resposta d = {-1.0, -1.0, -1.0, 1.0, -1.0, -1.0, -1.0, -1.0}\n",
    "\n",
    "Padrão 5: x = {1,0,0} com vetor resposta d = {-1.0, -1.0, -1.0, -1.0, 1.0, -1.0, -1.0, -1.0}\n",
    "\n",
    "Padrão 6: x = {1,0,1} com vetor resposta d = {-1.0, -1.0, -1.0, -1.0, -1.0, 1.0, -1.0, -1.0}\n",
    "\n",
    "Padrão 7: x = {1,1,0} com vetor resposta d = {-1.0, -1.0, -1.0, -1.0, -1.0, -1.0, 1.0, -1.0}\n",
    "\n",
    "Padrão 8: x = {1,1,1} com vetor resposta d = {-1.0, -1.0, -1.0, -1.0, -1.0, -1.0, -1.0, 1.0}\n",
    "\n",
    "Dica: -1 pode ser trocado para 0, mudando a função de ativação "
   ]
  },
  {
   "cell_type": "markdown",
   "metadata": {},
   "source": [
    "### Primeira Etapa: Criação do Arquivo de Entrada \n",
    "\n",
    "Objetivo: Criar um conjunto de dados seguindo os padrões, porém com variação randômica de ruído em algumas instâncias. \n",
    "    Serão criados 800 entradas. \n",
    "    "
   ]
  },
  {
   "cell_type": "code",
   "execution_count": 1,
   "metadata": {},
   "outputs": [],
   "source": [
    "import numpy as np \n",
    "import random \n",
    "\n",
    "random.seed(234) \n",
    "    # Criada uma semente para garantir que sempre seja obtido o mesmo conjunto de dados \n",
    "    \n",
    "padroes = [[0, 0, 0], [0, 0, 1], [0, 1, 0], [0, 1, 1], \n",
    "           [1, 0, 0], [1, 0, 1], [1, 1, 0], [1, 1, 1]] # 8 tipos de padrões normais\n",
    "\n",
    "ruidoMax = 0.1 \n",
    "    # Ruído máximo de 0.1 \n",
    "\n",
    "amostras = 100 \n",
    "    # Número de amostras para cada tipo de entrada \n",
    "    \n",
    "count=0\n",
    "coluna = len(padroes[0])\n",
    "linha = len(padroes)*amostras\n",
    "ruido = [0]*coluna \n",
    "\n",
    "arquivo = open('./entradas.txt', 'w')\n",
    "lista = []\n",
    "\n",
    "for i in range (0, len(padroes)): \n",
    "    \n",
    "    for j in range(0,amostras): \n",
    "        \n",
    "        for k in range(0,coluna):\n",
    "            ruido[k] = random.randrange(0,2) \n",
    "                # 0 = sem ruído\n",
    "                # 1 = com ruído\n",
    "        for k in range(0,coluna): \n",
    "            if(ruido[k]==0):\n",
    "                a = padroes[i][k]\n",
    "                arquivo.write(str(a))\n",
    "                lista.append(a)\n",
    "            else:\n",
    "                a = padroes[i][k] + random.uniform(-ruidoMax, ruidoMax)\n",
    "                arquivo.write(str(a)) # Acrescenta o ruído \n",
    "                lista.append(a)\n",
    "            if(k==2):\n",
    "                arquivo.write('\\n')\n",
    "            else: \n",
    "                arquivo.write(',')\n",
    "        count+=1 \n",
    "\n",
    "arquivo.close()"
   ]
  },
  {
   "cell_type": "markdown",
   "metadata": {},
   "source": [
    "### Segunda Etapa: Criação do Arquivo de Saída\n",
    "\n",
    "Objetivo: Para cada linha do arquivo de entrada, encontrar o seu binário de 8bits equivalente. \n"
   ]
  },
  {
   "cell_type": "code",
   "execution_count": 2,
   "metadata": {},
   "outputs": [],
   "source": [
    "tamSaida = len(lista)\n",
    "i = 0; aux = 0\n",
    "codeBin = [0]*coluna \n",
    "peso = [2,1,0]\n",
    "saida = [0]*8 \n",
    "\n",
    "arquivo2 = open('./saida.txt','w')\n",
    "\n",
    "while(i < tamSaida):\n",
    "    \n",
    "    for j in range (0,coluna): \n",
    "        if(lista[i] <= 0.1): \n",
    "            # Valores que forem menores que 0.1 são equivalentes a 0 \n",
    "            codeBin[j]=0\n",
    "        else: \n",
    "            # Valores maiores que 0.9 são equivalentes a 1 \n",
    "            codeBin[j]=1\n",
    "        i+=1\n",
    "    \n",
    "    for g in range(coluna-1, -1, -1):\n",
    "        aux += codeBin[g] * (2 **peso[g])\n",
    "        # Calcula o número decimal equivalente ao binário da saída \n",
    "    \n",
    "    saida[aux] = 1 # Seta o bit para 1 \n",
    "    \n",
    "    for k in range (0,8):\n",
    "        arquivo2.write(str(saida[k]))\n",
    "        \n",
    "        if(k!=7):\n",
    "            arquivo2.write(',')\n",
    "        else: \n",
    "            arquivo2.write(\"\\n\")\n",
    "            \n",
    "    aux = 0\n",
    "    saida=[0]*8 # Seta para -1 o vetor de saída para ser reescrito \n",
    "\n",
    "arquivo2.close()"
   ]
  },
  {
   "cell_type": "markdown",
   "metadata": {},
   "source": [
    "Nas primeiras etapas foram criados dois arquivos com 800 instâncias cada, sendo 100 para cada tipo de padrão. \n",
    "\n",
    "### Terceira Etapa: Rede Neural - Perceptron de Rosenblatt "
   ]
  },
  {
   "cell_type": "code",
   "execution_count": null,
   "metadata": {},
   "outputs": [],
   "source": [
    "import numpy as np \n",
    "import pandas as pd \n",
    "import tensorflow as tf\n",
    "import matplotlib.pyplot as plt \n",
    "    # Importação das bibliotecas "
   ]
  },
  {
   "cell_type": "code",
   "execution_count": null,
   "metadata": {},
   "outputs": [],
   "source": [
    "X = []\n",
    "X = np.loadtxt('./entradas.txt', dtype=float, delimiter=',', encoding = 'bytes')\n",
    "\n",
    "Y = []\n",
    "Y = "
   ]
  }
 ],
 "metadata": {
  "kernelspec": {
   "display_name": "Python 3",
   "language": "python",
   "name": "python3"
  },
  "language_info": {
   "codemirror_mode": {
    "name": "ipython",
    "version": 3
   },
   "file_extension": ".py",
   "mimetype": "text/x-python",
   "name": "python",
   "nbconvert_exporter": "python",
   "pygments_lexer": "ipython3",
   "version": "3.7.4"
  }
 },
 "nbformat": 4,
 "nbformat_minor": 4
}
